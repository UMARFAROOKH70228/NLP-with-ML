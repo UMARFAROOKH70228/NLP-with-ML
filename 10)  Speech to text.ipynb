{
 "cells": [
  {
   "cell_type": "code",
   "execution_count": null,
   "metadata": {},
   "outputs": [],
   "source": []
  },
  {
   "cell_type": "code",
   "execution_count": 5,
   "metadata": {},
   "outputs": [],
   "source": [
    "import pyaudio"
   ]
  },
  {
   "cell_type": "code",
   "execution_count": 6,
   "metadata": {},
   "outputs": [],
   "source": [
    "import speech_recognition as sr"
   ]
  },
  {
   "cell_type": "code",
   "execution_count": 7,
   "metadata": {},
   "outputs": [
    {
     "name": "stdout",
     "output_type": "stream",
     "text": [
      "start talking\n",
      "Here is your converted text below...\n",
      "we have to learn English in the beautiful language and the process of alga alga rhythms and example of Rhythm texting\n"
     ]
    }
   ],
   "source": [
    "r = sr.Recognizer()\n",
    "\n",
    "#reading microphone as source\n",
    "#listening the speech and store in audio_text vareiable\n",
    "\n",
    "with sr.Microphone() as source:\n",
    "    print(\"start talking\")\n",
    "    audio_text = r.listen(source)\n",
    "    print(\"Here is your converted text below...\")\n",
    "    \n",
    "    try:\n",
    "        #using google speech recognisation\n",
    "        speech_2_text = r.recognize_google(audio_text)\n",
    "        \n",
    "        print(speech_2_text)\n",
    "        \n",
    "    except:\n",
    "        print(\"sorry , i didnt get that\")"
   ]
  },
  {
   "cell_type": "code",
   "execution_count": 7,
   "metadata": {},
   "outputs": [
    {
     "name": "stdout",
     "output_type": "stream",
     "text": [
      "start talking\n",
      "Here is your converted text below...\n",
      "how may I help you whatever you want you can tell me what you need you have to tell before it have to be end\n"
     ]
    }
   ],
   "source": [
    "r = sr.Recognizer()\n",
    "\n",
    "#reading microphone as source\n",
    "#listening the speech and store in audio_text vareiable\n",
    "\n",
    "with sr.Microphone() as source:\n",
    "    print(\"start talking\")\n",
    "    audio_text = r.listen(source)\n",
    "    print(\"Here is your converted text below...\")\n",
    "    \n",
    "    try:\n",
    "        #using google speech recognisation\n",
    "        speech_2_text = r.recognize_google(audio_text)\n",
    "        print( speech_2_text)\n",
    "        \n",
    "    except:\n",
    "        print(\"sorry , i didnt get that\")"
   ]
  },
  {
   "cell_type": "markdown",
   "metadata": {},
   "source": [
    "# how to write in document\n"
   ]
  },
  {
   "cell_type": "code",
   "execution_count": 8,
   "metadata": {},
   "outputs": [
    {
     "data": {
      "text/plain": [
       "<function TextIOWrapper.close()>"
      ]
     },
     "execution_count": 8,
     "metadata": {},
     "output_type": "execute_result"
    }
   ],
   "source": [
    "#open new file with write mode'\n",
    "f = open(\"story.doc\",\"w\")\n",
    "\n",
    "#write the recorded content into the file\n",
    "f.write(speech_2_text)\n",
    "\n",
    "\n",
    "#close the file\n",
    "f.close"
   ]
  },
  {
   "cell_type": "code",
   "execution_count": null,
   "metadata": {},
   "outputs": [],
   "source": []
  }
 ],
 "metadata": {
  "kernelspec": {
   "display_name": "Python 3",
   "language": "python",
   "name": "python3"
  },
  "language_info": {
   "codemirror_mode": {
    "name": "ipython",
    "version": 3
   },
   "file_extension": ".py",
   "mimetype": "text/x-python",
   "name": "python",
   "nbconvert_exporter": "python",
   "pygments_lexer": "ipython3",
   "version": "3.8.5"
  }
 },
 "nbformat": 4,
 "nbformat_minor": 4
}
