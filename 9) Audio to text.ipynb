{
 "cells": [
  {
   "cell_type": "code",
   "execution_count": 34,
   "metadata": {},
   "outputs": [],
   "source": [
    "# importing libraries\n",
    "import speech_recognition as sr\n",
    "from textblob import TextBlob"
   ]
  },
  {
   "cell_type": "code",
   "execution_count": 35,
   "metadata": {},
   "outputs": [],
   "source": [
    "# initialize the recognizer class(for recognizing speech)\n",
    "r = sr.Recognizer()\n",
    "\n",
    "\n"
   ]
  },
  {
   "cell_type": "code",
   "execution_count": 46,
   "metadata": {},
   "outputs": [
    {
     "name": "stdout",
     "output_type": "stream",
     "text": [
      "converting audio trancript into text.....\n",
      "\n",
      "your audio text is = \n",
      " today is a very good day I hope everyone is good to have a fun today and you are going to learn a speech recognization as well as\n",
      "\\n Native language text = \n",
      " आज का दिन बहुत अच्छा है मुझे आशा है कि आज सभी लोग मस्ती करने के लिए अच्छे हैं और आप भाषण पहचान के साथ-साथ सीखने जा रहे हैं\n"
     ]
    }
   ],
   "source": [
    "#reading audio file as source\n",
    "#listening the audio file and store in audio text variable\n",
    "\n",
    "\n",
    "\n",
    "with sr.AudioFile(r\"C:\\Users\\UmarFarooque\\Desktop\\shankar.wav\") as source:\n",
    "    \n",
    "    audio_text = r.listen(source,timeout=2)\n",
    "    \n",
    "    try:\n",
    "        text=r.recognize_google(audio_text)\n",
    "        print('converting audio trancript into text.....\\n')\n",
    "        print('your audio text is = \\n',text)\n",
    "        \n",
    "        blob=TextBlob(text)\n",
    "        your_lang = blob.translate(to='hi')\n",
    "        print(\"\\\\n Native language text = \\n\",your_lang)\n",
    "        \n",
    "        \n",
    "    except:\n",
    "            print('sorry run again')\n",
    "        "
   ]
  },
  {
   "cell_type": "code",
   "execution_count": null,
   "metadata": {},
   "outputs": [],
   "source": []
  },
  {
   "cell_type": "code",
   "execution_count": null,
   "metadata": {},
   "outputs": [],
   "source": []
  },
  {
   "cell_type": "code",
   "execution_count": null,
   "metadata": {},
   "outputs": [],
   "source": []
  },
  {
   "cell_type": "code",
   "execution_count": null,
   "metadata": {},
   "outputs": [],
   "source": []
  },
  {
   "cell_type": "code",
   "execution_count": null,
   "metadata": {},
   "outputs": [],
   "source": []
  },
  {
   "cell_type": "code",
   "execution_count": null,
   "metadata": {},
   "outputs": [],
   "source": []
  },
  {
   "cell_type": "code",
   "execution_count": 15,
   "metadata": {},
   "outputs": [
    {
     "name": "stdout",
     "output_type": "stream",
     "text": [
      "Requirement already satisfied: Audiofile in c:\\users\\umarfarooque\\anaconda3\\lib\\site-packages (1.0.1)\n",
      "Requirement already satisfied: numpy in c:\\users\\umarfarooque\\anaconda3\\lib\\site-packages (from Audiofile) (1.21.3)\n",
      "Requirement already satisfied: audeer in c:\\users\\umarfarooque\\anaconda3\\lib\\site-packages (from Audiofile) (1.16.0)\n",
      "Requirement already satisfied: soundfile in c:\\users\\umarfarooque\\anaconda3\\lib\\site-packages (from Audiofile) (0.10.3.post1)\n",
      "Requirement already satisfied: sox in c:\\users\\umarfarooque\\anaconda3\\lib\\site-packages (from Audiofile) (1.4.1)\n",
      "Requirement already satisfied: tqdm in c:\\users\\umarfarooque\\anaconda3\\lib\\site-packages (from audeer->Audiofile) (4.50.2)\n",
      "Requirement already satisfied: cffi>=1.0 in c:\\users\\umarfarooque\\anaconda3\\lib\\site-packages (from soundfile->Audiofile) (1.14.3)\n",
      "Requirement already satisfied: pycparser in c:\\users\\umarfarooque\\anaconda3\\lib\\site-packages (from cffi>=1.0->soundfile->Audiofile) (2.20)\n"
     ]
    }
   ],
   "source": [
    "!pip install Audiofile"
   ]
  },
  {
   "cell_type": "code",
   "execution_count": 42,
   "metadata": {},
   "outputs": [
    {
     "data": {
      "text/plain": [
       "'hi how are you how do you do this is Parveen is is is is'"
      ]
     },
     "execution_count": 42,
     "metadata": {},
     "output_type": "execute_result"
    }
   ],
   "source": [
    "# Speech Recognition\n",
    "\n",
    "# Importing Library\n",
    "import speech_recognition as sr\n",
    "\n",
    "# Creating a recognition object\n",
    "r = sr.Recognizer()\n",
    "\n",
    "# Extracting the audio & removing ambient noice\n",
    "audio_file = sr.AudioFile(r\"C:\\Users\\UmarFarooque\\Desktop\\parveen.wav\")\n",
    "with audio_file as source:\n",
    "    r.adjust_for_ambient_noise(source)\n",
    "    audio = r.record(source)\n",
    "\n",
    "# Recognize the audio\n",
    "r.recognize_google(audio)"
   ]
  },
  {
   "cell_type": "code",
   "execution_count": null,
   "metadata": {},
   "outputs": [],
   "source": []
  }
 ],
 "metadata": {
  "kernelspec": {
   "display_name": "Python 3",
   "language": "python",
   "name": "python3"
  },
  "language_info": {
   "codemirror_mode": {
    "name": "ipython",
    "version": 3
   },
   "file_extension": ".py",
   "mimetype": "text/x-python",
   "name": "python",
   "nbconvert_exporter": "python",
   "pygments_lexer": "ipython3",
   "version": "3.8.5"
  }
 },
 "nbformat": 4,
 "nbformat_minor": 4
}
