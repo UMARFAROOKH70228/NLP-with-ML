{
 "cells": [
  {
   "cell_type": "code",
   "execution_count": 1,
   "metadata": {},
   "outputs": [],
   "source": [
    "import speech_recognition as sr"
   ]
  },
  {
   "cell_type": "code",
   "execution_count": 2,
   "metadata": {},
   "outputs": [],
   "source": [
    "from textblob import TextBlob"
   ]
  },
  {
   "cell_type": "code",
   "execution_count": 24,
   "metadata": {},
   "outputs": [],
   "source": [
    "import pyaudio"
   ]
  },
  {
   "cell_type": "code",
   "execution_count": 3,
   "metadata": {},
   "outputs": [
    {
     "name": "stdout",
     "output_type": "stream",
     "text": [
      "start talking\n",
      "Here is your converted text below...\n",
      "sorry , i didnt get that\n"
     ]
    }
   ],
   "source": [
    "r = sr.Recognizer()\n",
    "\n",
    "#reading microphone as source\n",
    "#listening the speech and store in audio_text vareiable\n",
    "\n",
    "with sr.Microphone() as source:\n",
    "    print(\"start talking\")\n",
    "    audio_text = r.listen(source)\n",
    "    print(\"Here is your converted text below...\")\n",
    "    \n",
    "    try:\n",
    "        #using google speech recognisation\n",
    "        text = r.recognize_google(audio_text,language='en')\n",
    "        blob=TextBlob(text)\n",
    "        print(blob.translate(to='kn'))\n",
    "        \n",
    "    except:\n",
    "        print(\"sorry , i didnt get that\")"
   ]
  },
  {
   "cell_type": "code",
   "execution_count": 8,
   "metadata": {},
   "outputs": [
    {
     "name": "stdout",
     "output_type": "stream",
     "text": [
      "start talking\n",
      "Here is your converted text below...\n",
      "बेलगाम दक्षिण-पश्चिम भारतीय राज्य कर्नाटक सर्कल में एक शहर है, जिसमें बड़ी बेलगाम किला सामग्री सदियों पुरानी मस्जिद और सिटी सेंटर में कमल बस्ती जैन मंदिर है, जो एक पार्क में 19 दिनों का महादेव मंदिर स्थल है उत्तर कपिलेश्वर मंदिर भगवान को समर्पित है शिव\n"
     ]
    }
   ],
   "source": [
    "r = sr.Recognizer()\n",
    "\n",
    "#reading microphone as source\n",
    "#listening the speech and store in audio_text vareiable\n",
    "\n",
    "with sr.Microphone() as source:\n",
    "    print(\"start talking\")\n",
    "    audio_text = r.listen(source)\n",
    "    print(\"Here is your converted text below...\")\n",
    "    \n",
    "    try:\n",
    "        #using google speech recognisation\n",
    "        text = r.recognize_google(audio_text,language='en')\n",
    "        blob=TextBlob(text)\n",
    "        print(blob.translate(to='hi'))\n",
    "        \n",
    "    except:\n",
    "        print(\"sorry , i didnt get that\")"
   ]
  },
  {
   "cell_type": "code",
   "execution_count": null,
   "metadata": {},
   "outputs": [],
   "source": []
  },
  {
   "cell_type": "code",
   "execution_count": null,
   "metadata": {},
   "outputs": [],
   "source": []
  }
 ],
 "metadata": {
  "kernelspec": {
   "display_name": "Python 3",
   "language": "python",
   "name": "python3"
  },
  "language_info": {
   "codemirror_mode": {
    "name": "ipython",
    "version": 3
   },
   "file_extension": ".py",
   "mimetype": "text/x-python",
   "name": "python",
   "nbconvert_exporter": "python",
   "pygments_lexer": "ipython3",
   "version": "3.8.5"
  }
 },
 "nbformat": 4,
 "nbformat_minor": 4
}
