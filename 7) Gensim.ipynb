{
 "cells": [
  {
   "cell_type": "code",
   "execution_count": 1,
   "metadata": {},
   "outputs": [],
   "source": [
    "import pprint"
   ]
  },
  {
   "cell_type": "code",
   "execution_count": 2,
   "metadata": {},
   "outputs": [],
   "source": [
    "text_corpus = [\n",
    "    \"Human machine interface for lab abc computer application\",\n",
    "    \"A survey of user opinion of computer system response time\",\n",
    "    \"The eps user system interface management system\",\n",
    "    \" system and Human system engineering testing of eps\",\n",
    "]"
   ]
  },
  {
   "cell_type": "code",
   "execution_count": 9,
   "metadata": {},
   "outputs": [
    {
     "name": "stdout",
     "output_type": "stream",
     "text": [
      "[['human', 'interface', 'computer'],\n",
      " ['user', 'computer', 'system'],\n",
      " ['eps', 'user', 'system', 'interface', 'system'],\n",
      " ['system', 'human', 'system', 'eps']]\n"
     ]
    }
   ],
   "source": [
    "stoplist = set('for a of the and to in.'.split(' '))  #creating as set of frequent words\n",
    "\n",
    "texts = [[word for word in document.lower().split() if word not in stoplist]  #filtering stopwords and lowercase\n",
    "        for document in text_corpus]\n",
    "#count word frequencies\n",
    "from collections import defaultdict\n",
    "\n",
    "frequency = defaultdict(int)\n",
    "\n",
    "\n",
    "for text in texts:\n",
    "    for token in text:\n",
    "        frequency[token] +=1\n",
    "        \n",
    "        \n",
    "#only keep wordss which have appear more than once\n",
    "\n",
    "processed_corpus = [[token for token in text if frequency[token]>1]for text in texts]\n",
    "\n",
    "\n",
    "\n",
    "pprint.pprint(processed_corpus)"
   ]
  },
  {
   "cell_type": "code",
   "execution_count": 10,
   "metadata": {},
   "outputs": [
    {
     "name": "stdout",
     "output_type": "stream",
     "text": [
      "Dictionary(6 unique tokens: ['computer', 'human', 'interface', 'system', 'user']...)\n"
     ]
    }
   ],
   "source": [
    "#creating dictonary which help in Topic modelling\n",
    "\n",
    "from gensim import corpora\n",
    "\n",
    "dictionary = corpora.Dictionary(processed_corpus)\n",
    "print(dictionary)"
   ]
  },
  {
   "cell_type": "code",
   "execution_count": 11,
   "metadata": {},
   "outputs": [
    {
     "name": "stdout",
     "output_type": "stream",
     "text": [
      "{'computer': 0, 'eps': 5, 'human': 1, 'interface': 2, 'system': 3, 'user': 4}\n"
     ]
    }
   ],
   "source": [
    "#vectorize representation\n",
    "pprint.pprint(dictionary.token2id)"
   ]
  },
  {
   "cell_type": "code",
   "execution_count": 12,
   "metadata": {},
   "outputs": [
    {
     "name": "stdout",
     "output_type": "stream",
     "text": [
      "[(0, 1), (1, 1)]\n"
     ]
    }
   ],
   "source": [
    "new_doc = \"Human computer interaction\"\n",
    "new_vec = dictionary.doc2bow(new_doc.lower().split())\n",
    "print(new_vec)"
   ]
  },
  {
   "cell_type": "code",
   "execution_count": 13,
   "metadata": {},
   "outputs": [
    {
     "name": "stdout",
     "output_type": "stream",
     "text": [
      "[[(0, 1), (1, 1), (2, 1)],\n",
      " [(0, 1), (3, 1), (4, 1)],\n",
      " [(2, 1), (3, 2), (4, 1), (5, 1)],\n",
      " [(1, 1), (3, 2), (5, 1)]]\n"
     ]
    }
   ],
   "source": [
    "bow_corpus = [dictionary.doc2bow(text) for text in processed_corpus]\n",
    "pprint.pprint(bow_corpus)  \n",
    "#(id,repeatation)"
   ]
  },
  {
   "cell_type": "code",
   "execution_count": 14,
   "metadata": {},
   "outputs": [
    {
     "name": "stdout",
     "output_type": "stream",
     "text": [
      "[(3, 1.0)]\n"
     ]
    }
   ],
   "source": [
    "from gensim import models\n",
    "\n",
    "#train the model\n",
    "tfidf = models.TfidfModel(bow_corpus)\n",
    "\n",
    "words = \"system minors\".lower().split()\n",
    "\n",
    "print(tfidf[dictionary.doc2bow(words)])"
   ]
  },
  {
   "cell_type": "code",
   "execution_count": 15,
   "metadata": {},
   "outputs": [],
   "source": [
    "#open text file"
   ]
  },
  {
   "cell_type": "raw",
   "metadata": {},
   "source": [
    "import gensim\n",
    "from gensim import corpora\n",
    "from pprint import pprint\n",
    "from gensim.utils import simple_preprocess\n",
    "\n",
    "\n",
    "import os\n",
    "\n",
    "dict_STF = corpora.Dictionary(simple_preprocess(line) for line in open(r\"simple.txt\"))\n",
    "                                                                       \n",
    "                                                                       \n",
    "print(dict_STF.token2id)                                                                       "
   ]
  },
  {
   "cell_type": "code",
   "execution_count": null,
   "metadata": {},
   "outputs": [],
   "source": []
  }
 ],
 "metadata": {
  "kernelspec": {
   "display_name": "Python 3",
   "language": "python",
   "name": "python3"
  },
  "language_info": {
   "codemirror_mode": {
    "name": "ipython",
    "version": 3
   },
   "file_extension": ".py",
   "mimetype": "text/x-python",
   "name": "python",
   "nbconvert_exporter": "python",
   "pygments_lexer": "ipython3",
   "version": "3.8.5"
  }
 },
 "nbformat": 4,
 "nbformat_minor": 4
}
