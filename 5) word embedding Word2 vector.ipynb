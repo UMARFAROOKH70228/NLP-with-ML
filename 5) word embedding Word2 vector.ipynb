{
 "cells": [
  {
   "cell_type": "code",
   "execution_count": 5,
   "metadata": {},
   "outputs": [],
   "source": [
    "import re\n",
    "import nltk\n",
    "import string\n",
    "from gensim.models import word2vec\n",
    "from nltk.corpus import stopwords\n",
    "import matplotlib.pyplot as plt\n",
    "%matplotlib inline"
   ]
  },
  {
   "cell_type": "code",
   "execution_count": 6,
   "metadata": {},
   "outputs": [],
   "source": [
    "paragraph = 'Now that COVID-19 vaccines have reached billions of people worldwide, the evidence is overwhelming that no matter which one you take, the vaccines offer life-saving protection against a disease that has killed millions. The pandemic is far from over, and they are our best bet of staying safe.'"
   ]
  },
  {
   "cell_type": "code",
   "execution_count": 7,
   "metadata": {},
   "outputs": [],
   "source": [
    "#preprocessing the data \n",
    "\n",
    "paragraph = paragraph.translate(str.maketrans(' ',' ',string.punctuation))\n",
    "\n",
    "text = re.sub(r'\\[[0-9]*\\]',' ',paragraph)\n",
    "text = re.sub(r'\\s+',' ',text)\n",
    "\n",
    "text = text.lower()\n",
    "\n",
    "text = re.sub(r'\\d',' ',text)\n",
    "text = re.sub(r'\\s+',' ',text)\n",
    "\n",
    "#print(text)"
   ]
  },
  {
   "cell_type": "code",
   "execution_count": 8,
   "metadata": {},
   "outputs": [
    {
     "name": "stdout",
     "output_type": "stream",
     "text": [
      "now that covid vaccines have reached billions of people worldwide the evidence is overwhelming that no matter which one you take the vaccines offer lifesaving protection against a disease that has killed millions the pandemic is far from over and they are our best bet of staying safe\n"
     ]
    }
   ],
   "source": [
    "print(text)"
   ]
  },
  {
   "cell_type": "code",
   "execution_count": 9,
   "metadata": {},
   "outputs": [],
   "source": [
    "#preapring dataset\n",
    "sentences = nltk.sent_tokenize(text)"
   ]
  },
  {
   "cell_type": "code",
   "execution_count": 10,
   "metadata": {},
   "outputs": [],
   "source": [
    "# nltk.download('punkt')"
   ]
  },
  {
   "cell_type": "code",
   "execution_count": 11,
   "metadata": {},
   "outputs": [
    {
     "name": "stdout",
     "output_type": "stream",
     "text": [
      "['now that covid vaccines have reached billions of people worldwide the evidence is overwhelming that no matter which one you take the vaccines offer lifesaving protection against a disease that has killed millions the pandemic is far from over and they are our best bet of staying safe']\n"
     ]
    }
   ],
   "source": [
    "print(sentences)"
   ]
  },
  {
   "cell_type": "code",
   "execution_count": 12,
   "metadata": {},
   "outputs": [
    {
     "name": "stdout",
     "output_type": "stream",
     "text": [
      "[['now', 'that', 'covid', 'vaccines', 'have', 'reached', 'billions', 'of', 'people', 'worldwide', 'the', 'evidence', 'is', 'overwhelming', 'that', 'no', 'matter', 'which', 'one', 'you', 'take', 'the', 'vaccines', 'offer', 'lifesaving', 'protection', 'against', 'a', 'disease', 'that', 'has', 'killed', 'millions', 'the', 'pandemic', 'is', 'far', 'from', 'over', 'and', 'they', 'are', 'our', 'best', 'bet', 'of', 'staying', 'safe']]\n"
     ]
    }
   ],
   "source": [
    "sent_word = [nltk.word_tokenize(sentence) for sentence in sentences]\n",
    "print(sent_word)"
   ]
  },
  {
   "cell_type": "code",
   "execution_count": 13,
   "metadata": {},
   "outputs": [
    {
     "data": {
      "text/plain": [
       "'!\"#$%&\\'()*+,-./:;<=>?@[\\\\]^_`{|}~'"
      ]
     },
     "execution_count": 13,
     "metadata": {},
     "output_type": "execute_result"
    }
   ],
   "source": [
    "punc = string.punctuation\n",
    "punc"
   ]
  },
  {
   "cell_type": "code",
   "execution_count": 14,
   "metadata": {},
   "outputs": [],
   "source": [
    "# nltk.download('stopwords')"
   ]
  },
  {
   "cell_type": "code",
   "execution_count": 15,
   "metadata": {},
   "outputs": [],
   "source": [
    "for i in range(len(sent_word)):\n",
    "    sent_word[i] = [word for word in sent_word[i]\n",
    "                    if word not in stopwords.words('english') if word not in punc]\n",
    "                  "
   ]
  },
  {
   "cell_type": "code",
   "execution_count": 16,
   "metadata": {},
   "outputs": [],
   "source": [
    "#training model\n",
    "\n",
    "model = word2vec.Word2Vec(sent_word, min_count=1)\n",
    "\n",
    "words = model.wv.key_to_index "
   ]
  },
  {
   "cell_type": "code",
   "execution_count": 17,
   "metadata": {},
   "outputs": [
    {
     "data": {
      "text/plain": [
       "{'vaccines': 0,\n",
       " 'safe': 1,\n",
       " 'take': 2,\n",
       " 'reached': 3,\n",
       " 'billions': 4,\n",
       " 'people': 5,\n",
       " 'worldwide': 6,\n",
       " 'evidence': 7,\n",
       " 'overwhelming': 8,\n",
       " 'matter': 9,\n",
       " 'one': 10,\n",
       " 'offer': 11,\n",
       " 'staying': 12,\n",
       " 'lifesaving': 13,\n",
       " 'protection': 14,\n",
       " 'disease': 15,\n",
       " 'killed': 16,\n",
       " 'millions': 17,\n",
       " 'pandemic': 18,\n",
       " 'far': 19,\n",
       " 'best': 20,\n",
       " 'bet': 21,\n",
       " 'covid': 22}"
      ]
     },
     "execution_count": 17,
     "metadata": {},
     "output_type": "execute_result"
    }
   ],
   "source": [
    "words"
   ]
  },
  {
   "cell_type": "code",
   "execution_count": 18,
   "metadata": {},
   "outputs": [
    {
     "name": "stdout",
     "output_type": "stream",
     "text": [
      "[-2.3748637e-04  4.2191767e-03  2.1141458e-03  9.9958209e-03\n",
      "  6.2947988e-04 -5.4644276e-03 -1.1796928e-03  2.0705319e-03\n",
      " -3.3730697e-03 -7.8467680e-03 -5.5992627e-03 -6.7500686e-03\n",
      "  6.3533257e-03  3.9225556e-03  8.2155345e-03  6.5196683e-03\n",
      " -6.1278413e-03  2.7159499e-03  8.4721260e-03  1.5956569e-03\n",
      "  3.0682278e-03  5.8126138e-03 -8.8393716e-03  9.1247465e-03\n",
      "  6.8194820e-03  8.5104415e-03 -8.2262633e-03  6.1755395e-03\n",
      "  6.6290712e-03 -1.3576436e-03 -6.2938668e-03  5.3266790e-03\n",
      " -6.8595791e-03 -5.3233551e-03  3.5116887e-03  8.0809714e-03\n",
      "  8.6926939e-03 -4.4053150e-03 -9.1887712e-03  9.6076941e-03\n",
      "  6.2903073e-03 -3.9663361e-03 -8.4597301e-03 -4.7183349e-03\n",
      " -3.9572287e-03 -3.2734512e-03  8.1909180e-04 -2.9716254e-04\n",
      " -3.1123781e-03 -5.9959888e-03  9.4205188e-03 -4.7255373e-03\n",
      " -7.2620986e-03  7.6847291e-03  2.5176955e-03  8.6263940e-03\n",
      " -4.4651176e-03 -6.8924045e-03  9.8490238e-04 -1.1729765e-03\n",
      " -9.3970653e-03 -1.6030740e-03  3.0505990e-03  6.5657808e-03\n",
      "  6.8452405e-03  3.2082773e-03 -4.4432734e-03 -1.8391680e-03\n",
      " -3.9402582e-03  5.7739140e-03 -6.3587092e-03  2.1030188e-03\n",
      " -1.3452339e-03 -5.8127786e-03 -7.2462130e-03  5.8525610e-03\n",
      " -8.3582047e-03 -6.8725110e-04  2.8274250e-03  7.7390098e-03\n",
      " -7.2979094e-03  3.3045721e-03  9.8084975e-03 -6.9770790e-03\n",
      " -3.5348581e-03  5.1335120e-03  5.2383854e-03  1.6241145e-03\n",
      "  7.9711340e-03  8.3158730e-04  1.8713165e-03 -1.6052509e-03\n",
      " -8.1662778e-03  3.2578039e-03  1.9663644e-03 -8.7342048e-03\n",
      " -6.7500828e-04  7.6670643e-05 -5.9604645e-06  8.7101338e-03]\n"
     ]
    }
   ],
   "source": [
    "vector = model.wv['covid']  #test the word vector\n",
    "print(vector)"
   ]
  },
  {
   "cell_type": "code",
   "execution_count": 19,
   "metadata": {},
   "outputs": [
    {
     "data": {
      "text/plain": [
       "[('disease', 0.19613033533096313),\n",
       " ('safe', 0.18843619525432587),\n",
       " ('one', 0.09932279586791992),\n",
       " ('matter', 0.0777018591761589),\n",
       " ('bet', 0.06733350455760956)]"
      ]
     },
     "execution_count": 19,
     "metadata": {},
     "output_type": "execute_result"
    }
   ],
   "source": [
    "# most similar words\n",
    "similar = model.wv.most_similar('covid',topn=5)\n",
    "\n",
    "similar"
   ]
  },
  {
   "cell_type": "code",
   "execution_count": 20,
   "metadata": {},
   "outputs": [
    {
     "data": {
      "text/plain": [
       "-0.0507887"
      ]
     },
     "execution_count": 20,
     "metadata": {},
     "output_type": "execute_result"
    }
   ],
   "source": [
    "# same words similarity\n",
    "\n",
    "model.wv.similarity(w1='covid',w2='vaccines')\n"
   ]
  },
  {
   "cell_type": "code",
   "execution_count": 21,
   "metadata": {},
   "outputs": [
    {
     "data": {
      "text/plain": [
       "'vaccines'"
      ]
     },
     "execution_count": 21,
     "metadata": {},
     "output_type": "execute_result"
    }
   ],
   "source": [
    "#filter on non similarity\n",
    "model.wv.doesnt_match([\"covid\",\"vaccines\",\"safe\"])"
   ]
  },
  {
   "cell_type": "code",
   "execution_count": 22,
   "metadata": {},
   "outputs": [],
   "source": [
    "from sklearn.manifold import TSNE\n",
    "vocab = ['covid','safe','staying','vaccines']\n",
    "def tsne_plot(mod):\n",
    "    labels=[]\n",
    "    wordvecs=[]\n",
    "    \n",
    "    for word in vocab:\n",
    "        wordvecs.append(model.wv[word])\n",
    "        labels.append(word)\n",
    "        \n",
    "    tsne_mod = TSNE(perplexity=3, n_components=2,init='pca',random_state=42)\n",
    "    coordinates=tsne_mod.fit_transform(wordvecs)\n",
    "    \n",
    "    x=[]\n",
    "    y=[]\n",
    "    for value in coordinates:\n",
    "        x.append(value[0])\n",
    "        y.append(value[1])\n",
    "        \n",
    "        \n",
    "    plt.figure(figsize=(6,6))\n",
    "        \n",
    "    for i in range(len(x)):\n",
    "        plt.scatter(x[i],y[i])\n",
    "        plt.annotate(labels[i],\n",
    "                    xy=(x[i],y[i]),\n",
    "                    xytext=(2,2),\n",
    "                    textcoords='offset points',ha='right', va='bottom')\n",
    "\n",
    "            \n",
    "            \n",
    "            \n",
    "    plt.show() "
   ]
  },
  {
   "cell_type": "code",
   "execution_count": 23,
   "metadata": {},
   "outputs": [
    {
     "data": {
      "image/png": "[encoded data removed]",
      "text/plain": [
       "<Figure size 432x432 with 1 Axes>"
      ]
     },
     "metadata": {
      "needs_background": "light"
     },
     "output_type": "display_data"
    }
   ],
   "source": [
    "tsne_plot(model)\n",
    "# plt.show()"
   ]
  },
  {
   "cell_type": "code",
   "execution_count": null,
   "metadata": {},
   "outputs": [],
   "source": []
  }
 ],
 "metadata": {
  "kernelspec": {
   "display_name": "Python 3",
   "language": "python",
   "name": "python3"
  },
  "language_info": {
   "codemirror_mode": {
    "name": "ipython",
    "version": 3
   },
   "file_extension": ".py",
   "mimetype": "text/x-python",
   "name": "python",
   "nbconvert_exporter": "python",
   "pygments_lexer": "ipython3",
   "version": "3.8.5"
  }
 },
 "nbformat": 4,
 "nbformat_minor": 4
}
